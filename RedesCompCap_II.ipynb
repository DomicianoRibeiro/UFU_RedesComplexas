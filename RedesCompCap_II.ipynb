{
  "nbformat": 4,
  "nbformat_minor": 0,
  "metadata": {
    "colab": {
      "name": "RedesCompCap_II",
      "provenance": [],
      "collapsed_sections": []
    },
    "kernelspec": {
      "name": "python3",
      "display_name": "Python 3"
    },
    "language_info": {
      "name": "python"
    }
  },
  "cells": [
    {
      "cell_type": "code",
      "execution_count": 28,
      "metadata": {
        "colab": {
          "base_uri": "https://localhost:8080/",
          "height": 319
        },
        "id": "SvdO3ivhi-Em",
        "outputId": "3c1d1a3e-459d-481c-8e82-499e2ba17e6d"
      },
      "outputs": [
        {
          "output_type": "display_data",
          "data": {
            "text/plain": [
              "<Figure size 432x288 with 1 Axes>"
            ],
            "image/png": "[encoded data removed]"
          },
          "metadata": {}
        }
      ],
      "source": [
        "#Domiciano Silveira Ribeiro\n",
        "#RA: 12122CCP004\n",
        "\n",
        "import networkx as nx\n",
        "\n",
        "G = nx.Graph()\n",
        "G.add_node(1)\n",
        "#nx.draw(G)\n",
        "\n",
        "G.add_nodes_from([2, 3])\n",
        "G.add_nodes_from(range(100, 110))\n",
        "H = nx.path_graph(10)\n",
        "G.add_nodes_from(H)\n",
        "#nx.draw(G)\n",
        "\n",
        "G.add_edge(1, 2)\n",
        "#nx.draw(G)\n",
        "\n",
        "G.add_edges_from([(1, 2), (1, 3)])\n",
        "#nx.draw(G)\n",
        "\n",
        "G.add_edges_from(H.edges)\n",
        "#nx.draw(G)\n",
        "#nx.draw(G, pos=nx.circular_layout(G), node_color='r', edge_color='b')\n",
        "\n",
        "G = nx.Graph()\n",
        "G.add_node(1)\n",
        "G.add_node(\"Hello\")\n",
        "K3 = nx.Graph([(0, 1), (1, 2), (2, 0)])\n",
        "G.add_node(K3)\n",
        "G.number_of_nodes()\n",
        "#3\n",
        "#nx.draw(G)\n",
        "\n",
        "G.add_node(1, size=10)\n",
        "G.add_node(3, weight=0.4, UTM=(\"13S\", 382871, 3972649))\n",
        "#nx.draw(G)\n",
        "\n",
        "G = nx.Graph()\n",
        "G.add_nodes_from(\"Hello\")\n",
        "K3 = nx.Graph([(0, 1), (1, 2), (2, 0)])\n",
        "G.add_nodes_from(K3)\n",
        "sorted(G.nodes(), key=str)\n",
        "#nx.draw(G)\n",
        "#[0, 1, 2, 'H', 'e', 'l', 'o']\n",
        "\n",
        "G.remove_node(1)\n",
        "#nx.draw(G)\n",
        "\n",
        "G = nx.path_graph(3)\n",
        "#nx.draw(G)\n",
        "\n",
        "G.order()\n",
        "#nx.draw(G)\n",
        "\n",
        "\n",
        "G = nx.DiGraph()\n",
        "nx.add_path(G, [0, 1, 2])\n",
        "G.add_edge(2, 3, weight=5)\n",
        "#nx.draw(G)\n",
        "\n",
        "G.edges.data() \n",
        "#nx.draw(G)\n",
        "\n",
        "G.edges.data(\"weight\", default=1)\n",
        "#nx.draw(G)\n",
        "\n",
        "\n"
      ]
    }
  ]
}