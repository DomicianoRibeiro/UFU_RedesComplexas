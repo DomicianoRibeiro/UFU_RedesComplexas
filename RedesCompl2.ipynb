{
  "nbformat": 4,
  "nbformat_minor": 0,
  "metadata": {
    "colab": {
      "name": "RedesCompl2",
      "provenance": [],
      "collapsed_sections": []
    },
    "kernelspec": {
      "name": "python3",
      "display_name": "Python 3"
    },
    "language_info": {
      "name": "python"
    }
  },
  "cells": [
    {
      "cell_type": "code",
      "execution_count": 40,
      "metadata": {
        "colab": {
          "base_uri": "https://localhost:8080/"
        },
        "id": "ksxg_HiSnvpa",
        "outputId": "cf9cdf44-0c8b-417b-dff6-c63c7b19aa20"
      },
      "outputs": [
        {
          "output_type": "stream",
          "name": "stdout",
          "text": [
            "Drive already mounted at /content/gdrive; to attempt to forcibly remount, call drive.mount(\"/content/gdrive\", force_remount=True).\n",
            "Importação: \n",
            " [[1 2]\n",
            " [2 3]\n",
            " [2 4]\n",
            " [5 6]\n",
            " [1 7]]\n",
            "\n",
            " Matriz:  \n",
            " [[0. 1. 0. 0. 0. 0. 1.]\n",
            " [0. 0. 1. 1. 0. 0. 0.]\n",
            " [0. 0. 0. 0. 0. 0. 0.]\n",
            " [0. 0. 0. 0. 0. 0. 0.]\n",
            " [0. 0. 0. 0. 0. 1. 0.]] \n",
            "\n",
            "Grau:  [2. 2. 0. 0. 1.] \n",
            "\n",
            "Grau médio:  0.14285714285714285\n"
          ]
        }
      ],
      "source": [
        "#Domiciano Silveira Ribeiro\n",
        "#RA: 12122CCP004\n",
        "#Exerc.: 1\n",
        "\n",
        "from google.colab import drive\n",
        "drive.mount('/content/gdrive')\n",
        "root_path = '/content/gdrive/My Drive/Colab Notebooks/RedesComp/'\n",
        "\n",
        "import numpy as np\n",
        "\n",
        "#Cada aluno cria a própria rede no padrão. :\n",
        "#Criar um arquivo no formato texto com os dados da rede no padrão\n",
        "#NóOrigem NóDestino\n",
        "grafoimportado = np.loadtxt(root_path + \"arq1.txt\", np.integer)\n",
        "print(\"Importação:\", \"\\n\", grafoimportado)\n",
        "\n",
        "grafo = np.zeros((5, 7))\n",
        "for x in grafoimportado:\n",
        "  linha = x\n",
        "  origem = 0\n",
        "  destino = 0\n",
        "  for y in linha:\n",
        "    if (origem == 0):\n",
        "      origem = y\n",
        "    else:\n",
        "      destino = y\n",
        "    if (origem != 0 and destino != 0):\n",
        "      grafo[origem - 1, destino - 1] = 1\n",
        "\n",
        "#-> Montar a matriz de adjacência \n",
        "print(\"\\n\", \"Matriz: \", \"\\n\", grafo, \"\\n\")\n",
        "\n",
        "#-> Calcular o grau de cada nó \n",
        "#axis = 1 para calcular linha e axis = 0 para calcular coluna\n",
        "grauvertice = np.sum(grafo, axis=1)\n",
        "print(\"Grau: \", grauvertice, \"\\n\")\n",
        "\n",
        "#-> Calcular o grau médio \n",
        "print(\"Grau médio: \", np.mean(grafo))\n",
        "\n"
      ]
    }
  ]
}